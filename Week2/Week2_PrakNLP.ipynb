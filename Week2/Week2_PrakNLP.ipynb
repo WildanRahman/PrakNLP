{
  "nbformat": 4,
  "nbformat_minor": 0,
  "metadata": {
    "colab": {
      "provenance": []
    },
    "kernelspec": {
      "name": "python3",
      "display_name": "Python 3"
    },
    "language_info": {
      "name": "python"
    }
  },
  "cells": [
    {
      "cell_type": "code",
      "source": [
        "!pip install faker"
      ],
      "metadata": {
        "colab": {
          "base_uri": "https://localhost:8080/"
        },
        "id": "hWC_hwm7Yac9",
        "outputId": "b1bf122f-7419-46b5-ffc5-eb16ec72b8e1"
      },
      "execution_count": null,
      "outputs": [
        {
          "output_type": "stream",
          "name": "stdout",
          "text": [
            "Collecting faker\n",
            "  Downloading Faker-19.6.2-py3-none-any.whl (1.7 MB)\n",
            "\u001b[?25l     \u001b[90m━━━━━━━━━━━━━━━━━━━━━━━━━━━━━━━━━━━━━━━━\u001b[0m \u001b[32m0.0/1.7 MB\u001b[0m \u001b[31m?\u001b[0m eta \u001b[36m-:--:--\u001b[0m\r\u001b[2K     \u001b[91m━━\u001b[0m\u001b[91m╸\u001b[0m\u001b[90m━━━━━━━━━━━━━━━━━━━━━━━━━━━━━━━━━━━━━\u001b[0m \u001b[32m0.1/1.7 MB\u001b[0m \u001b[31m3.5 MB/s\u001b[0m eta \u001b[36m0:00:01\u001b[0m\r\u001b[2K     \u001b[91m━━━━━━━━━━━━━━━━━━━━━━━━━━━━━━━━\u001b[0m\u001b[90m╺\u001b[0m\u001b[90m━━━━━━━\u001b[0m \u001b[32m1.4/1.7 MB\u001b[0m \u001b[31m20.1 MB/s\u001b[0m eta \u001b[36m0:00:01\u001b[0m\r\u001b[2K     \u001b[90m━━━━━━━━━━━━━━━━━━━━━━━━━━━━━━━━━━━━━━━━\u001b[0m \u001b[32m1.7/1.7 MB\u001b[0m \u001b[31m19.3 MB/s\u001b[0m eta \u001b[36m0:00:00\u001b[0m\n",
            "\u001b[?25hRequirement already satisfied: python-dateutil>=2.4 in /usr/local/lib/python3.10/dist-packages (from faker) (2.8.2)\n",
            "Requirement already satisfied: six>=1.5 in /usr/local/lib/python3.10/dist-packages (from python-dateutil>=2.4->faker) (1.16.0)\n",
            "Installing collected packages: faker\n",
            "Successfully installed faker-19.6.2\n"
          ]
        }
      ]
    },
    {
      "cell_type": "code",
      "source": [
        "from faker import Faker\n",
        "\n",
        "fake = Faker()\n",
        "\n",
        "jumlah_data = 10\n",
        "\n",
        "dummy_data = []\n",
        "\n",
        "for _ in range(jumlah_data):\n",
        "  nama = fake.name()\n",
        "  nomor_telepon = fake.phone_number()\n",
        "  alamat = fake.address()\n",
        "  email = fake.email()\n",
        "\n",
        "  data = f\"Nama : {nama}\\nNomor Telepon : {nomor_telepon}\\nAlamat : {alamat}\\nEmail : {email}\\n\"\n",
        "  dummy_data.append(data)\n",
        "\n",
        "file_name = \"dummy_data.txt\"\n",
        "with open(file_name, \"w\") as file:\n",
        "  for data in dummy_data:\n",
        "    file.write(data + \"\\n\")\n",
        "\n",
        "print(f\"{jumlah_data} data dummy telah disimpan dalam {file_name}\")"
      ],
      "metadata": {
        "id": "5JXY2NIidOhy",
        "colab": {
          "base_uri": "https://localhost:8080/"
        },
        "outputId": "9bbf97b9-c892-4759-d764-7adcd8d45a70"
      },
      "execution_count": null,
      "outputs": [
        {
          "output_type": "stream",
          "name": "stdout",
          "text": [
            "10 data dummy telah disimpan dalam dummy_data.txt\n"
          ]
        }
      ]
    },
    {
      "cell_type": "code",
      "source": [
        "import re\n",
        "import pandas as pd\n",
        "\n",
        "# Membuka file\n",
        "with open('dummy_data.txt', 'r') as file:\n",
        "    data = file.read()\n",
        "\n",
        "# Mencari semua email\n",
        "email_pattern = r'\\b[A-Za-z0-9._%+-]+@[A-Za-z0-9.-]+\\.[A-Z|a-z]{2,}\\b'\n",
        "emails = re.findall(email_pattern, data)\n",
        "\n",
        "# Mencari semua nomor telepon\n",
        "phone_pattern = r'\\(?\\d{3}\\)?[-.\\s\\/]?\\d{3}[-.\\s\\/]?\\d{4}'\n",
        "phone_numbers = [re.sub(r'[-.\\s\\/]', '', number) for number in re.findall(phone_pattern, data)]\n",
        "\n",
        "# Membuat DataFrame\n",
        "df = pd.DataFrame({\n",
        "    'Email': emails,\n",
        "    'Phone Number': phone_numbers\n",
        "})\n",
        "\n",
        "# Menampilkan tabel\n",
        "print(df)\n"
      ],
      "metadata": {
        "id": "jdzbn_-Waw1t",
        "colab": {
          "base_uri": "https://localhost:8080/"
        },
        "outputId": "8b2cc352-3b77-403b-d651-210a6dbe2f4b"
      },
      "execution_count": 36,
      "outputs": [
        {
          "output_type": "stream",
          "name": "stdout",
          "text": [
            "                        Email  Phone Number\n",
            "0       kjennings@example.com    4993898369\n",
            "1          hjones@example.com  (771)5832693\n",
            "2    staceywilson@example.net    2505815627\n",
            "3  martinezkendra@example.net    8402306581\n",
            "4        edward67@example.com    4894556166\n",
            "5       natasha63@example.net    7835293536\n",
            "6   heidihamilton@example.com    3574725667\n",
            "7        justin05@example.com  (369)9936197\n",
            "8    angelawalker@example.com    8464441762\n",
            "9       rwilliams@example.org    8164894148\n"
          ]
        }
      ]
    }
  ]
}